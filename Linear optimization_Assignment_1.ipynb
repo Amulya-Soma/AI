{
  "nbformat": 4,
  "nbformat_minor": 0,
  "metadata": {
    "colab": {
      "name": "Assignment 1",
      "provenance": [],
      "authorship_tag": "ABX9TyPTqVEci4msUY6XTpczznZf",
      "include_colab_link": true
    },
    "kernelspec": {
      "name": "python3",
      "display_name": "Python 3"
    },
    "language_info": {
      "name": "python"
    }
  },
  "cells": [
    {
      "cell_type": "markdown",
      "metadata": {
        "id": "view-in-github",
        "colab_type": "text"
      },
      "source": [
        "<a href=\"https://colab.research.google.com/github/Amulya-Soma/AI/blob/main/Linear%20optimization_Assignment_1.ipynb\" target=\"_parent\"><img src=\"https://colab.research.google.com/assets/colab-badge.svg\" alt=\"Open In Colab\"/></a>"
      ]
    },
    {
      "cell_type": "code",
      "metadata": {
        "colab": {
          "base_uri": "https://localhost:8080/"
        },
        "id": "hnO5wFyUsIG7",
        "outputId": "ca101e75-620c-4a46-8b65-d88fb7b93a53"
      },
      "source": [
        "from scipy.optimize import linprog\n",
        "objective_function=[-50,-120]                          #Objective function matrix\n",
        "A_inequality_constraints=[[10,30],[7000,2000],[1,1]]  #Matrix of inequality constraints coefficients\n",
        "B_inequality_constraints=[1200,700000,110]            #Matrix of inequality constraints constants\n",
        "Boundaries=[(0,float('inf')),(0,float('inf'))]        #Limits of X,Y\n",
        "Optimized=linprog(c=objective_function, A_ub=A_inequality_constraints, b_ub=B_inequality_constraints, A_eq=None, b_eq=None, bounds=Boundaries, method=\"Simplex\")\n",
        "Optimized.x\n",
        "print('Number of hectares for wheat crops=',round(Optimized.x[0]))\n",
        "print('Number of hectares for barley crops=',round(Optimized.x[1]))\n"
      ],
      "execution_count": 3,
      "outputs": [
        {
          "output_type": "stream",
          "text": [
            "Number of hectares for wheat crops= 98\n",
            "Number of hectares for barley crops= 7\n"
          ],
          "name": "stdout"
        }
      ]
    }
  ]
}