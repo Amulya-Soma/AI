{
  "nbformat": 4,
  "nbformat_minor": 0,
  "metadata": {
    "colab": {
      "name": "Assignment1_Linear_optimization_Finalized",
      "provenance": [],
      "authorship_tag": "ABX9TyMeT+17bBqyAuCMocnu2R+S",
      "include_colab_link": true
    },
    "kernelspec": {
      "name": "python3",
      "display_name": "Python 3"
    },
    "language_info": {
      "name": "python"
    }
  },
  "cells": [
    {
      "cell_type": "markdown",
      "metadata": {
        "id": "view-in-github",
        "colab_type": "text"
      },
      "source": [
        "<a href=\"https://colab.research.google.com/github/Amulya-Soma/AI/blob/main/Assignment1_Linear_optimization_Finalized.ipynb\" target=\"_parent\"><img src=\"https://colab.research.google.com/assets/colab-badge.svg\" alt=\"Open In Colab\"/></a>"
      ]
    },
    {
      "cell_type": "code",
      "metadata": {
        "colab": {
          "base_uri": "https://localhost:8080/"
        },
        "id": "OY0DlVbhA5IT",
        "outputId": "6b132f48-9f3a-4f26-87d7-a3cdf5865d66"
      },
      "source": [
        "from scipy.optimize import linprog\n",
        "objective_function=[-50,-120]                         #Objective function matrix\n",
        "A_inequality_constraints=[[10,30],[7000,2000],[1,1]]  #Matrix of inequality constraints coefficients\n",
        "B_inequality_constraints=[1200,700000,110]            #Matrix of inequality constraints constants\n",
        "Boundaries=[(0,float('inf')),(0,float('inf'))]        #Limits of X,Y\n",
        "Optimized=linprog(c=objective_function, A_ub=A_inequality_constraints, b_ub=B_inequality_constraints, A_eq=None, b_eq=None, bounds=Boundaries, method=\"Simplex\")\n",
        "Optimized.x\n",
        "print('Number of hectares for wheat crops=',round(Optimized.x[0]))\n",
        "print('Number of hectares for barley crops=',round(Optimized.x[1]))\n",
        "print('Optimal solution for objective function=',round((Optimized.x[0]*(50)+(Optimized.x[1]*(120)))))"
      ],
      "execution_count": 1,
      "outputs": [
        {
          "output_type": "stream",
          "text": [
            "Number of hectares for wheat crops= 98\n",
            "Number of hectares for barley crops= 7\n",
            "Optimal solution for objective function= 5779\n"
          ],
          "name": "stdout"
        }
      ]
    }
  ]
}