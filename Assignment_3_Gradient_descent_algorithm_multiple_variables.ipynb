{
  "nbformat": 4,
  "nbformat_minor": 0,
  "metadata": {
    "colab": {
      "name": "Assignment 3_Gradient descent algorithm multiple variables",
      "provenance": [],
      "collapsed_sections": [],
      "authorship_tag": "ABX9TyO/oLIkvQO5SFcWxTBxyOOn",
      "include_colab_link": true
    },
    "kernelspec": {
      "name": "python3",
      "display_name": "Python 3"
    },
    "language_info": {
      "name": "python"
    }
  },
  "cells": [
    {
      "cell_type": "markdown",
      "metadata": {
        "id": "view-in-github",
        "colab_type": "text"
      },
      "source": [
        "<a href=\"https://colab.research.google.com/github/Amulya-Soma/AI/blob/main/Assignment_3_Gradient_descent_algorithm_multiple_variables.ipynb\" target=\"_parent\"><img src=\"https://colab.research.google.com/assets/colab-badge.svg\" alt=\"Open In Colab\"/></a>"
      ]
    },
    {
      "cell_type": "code",
      "metadata": {
        "colab": {
          "base_uri": "https://localhost:8080/"
        },
        "id": "rWVsB-sNRKfD",
        "outputId": "c74fcd34-a572-4e86-ce5e-188ad9596bc3"
      },
      "source": [
        "import numpy as np\n",
        "import math\n",
        "x=np.random.uniform(-10,10)\n",
        "y=np.random.uniform(-10,10)\n",
        "eta=0.0002\n",
        "epochs=100\n",
        "iter=0\n",
        "while iter<=epochs:\n",
        "  grad_x=6*x\n",
        "  grad_y = -5*(math.exp(-y))\n",
        "  delx = -eta * grad_x\n",
        "  dely = -eta * grad_y\n",
        "  x=x+delx\n",
        "  y=y+dely\n",
        "  iter=iter+1\n",
        "obj =  3*(x*2) + 5*(math.exp(-y)) + 10\n",
        "print('objective function has minimum value at', obj, 'where x = ', round(x), 'and y = ', round(y))"
      ],
      "execution_count": 49,
      "outputs": [
        {
          "output_type": "stream",
          "name": "stdout",
          "text": [
            "objective function has minimum value at -1.6688210138063315 where x =  -2 and y =  3\n"
          ]
        }
      ]
    }
  ]
}