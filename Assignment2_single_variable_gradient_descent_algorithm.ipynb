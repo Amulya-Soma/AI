{
  "nbformat": 4,
  "nbformat_minor": 0,
  "metadata": {
    "colab": {
      "name": "Assignment2_single variable gradient descent algorithm",
      "provenance": [],
      "collapsed_sections": [],
      "authorship_tag": "ABX9TyP9vGTg4WKe6AlJyj/IIyIi",
      "include_colab_link": true
    },
    "kernelspec": {
      "name": "python3",
      "display_name": "Python 3"
    },
    "language_info": {
      "name": "python"
    }
  },
  "cells": [
    {
      "cell_type": "markdown",
      "metadata": {
        "id": "view-in-github",
        "colab_type": "text"
      },
      "source": [
        "<a href=\"https://colab.research.google.com/github/Amulya-Soma/AI/blob/main/Assignment2_single_variable_gradient_descent_algorithm.ipynb\" target=\"_parent\"><img src=\"https://colab.research.google.com/assets/colab-badge.svg\" alt=\"Open In Colab\"/></a>"
      ]
    },
    {
      "cell_type": "code",
      "metadata": {
        "colab": {
          "base_uri": "https://localhost:8080/"
        },
        "id": "WNNvC37jOu0S",
        "outputId": "11ccd7e9-4a7a-446a-ce61-a511ad637609"
      },
      "source": [
        "import numpy as np\n",
        "x=np.random.uniform(-10,10)\n",
        "eta=0.001\n",
        "epochs=200\n",
        "iter=0\n",
        "while iter<=epochs:\n",
        "  grad_x=4*(x*x*x)+6*x\n",
        "  delx= -eta * grad_x\n",
        "  x=x+delx\n",
        "  iter=iter+1\n",
        "obj=x*x*x*x + 3*(x*x) +10\n",
        "print('Minimum value of function = ', round(obj) ,'at x = ', round(x))"
      ],
      "execution_count": 1,
      "outputs": [
        {
          "output_type": "stream",
          "name": "stdout",
          "text": [
            "Minimum value of function =  10 at x =  0\n"
          ]
        }
      ]
    }
  ]
}