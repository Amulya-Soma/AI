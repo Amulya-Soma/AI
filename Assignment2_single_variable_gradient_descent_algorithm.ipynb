{
  "nbformat": 4,
  "nbformat_minor": 0,
  "metadata": {
    "colab": {
      "name": "Assignment2_single variable gradient descent algorithm",
      "provenance": [],
      "collapsed_sections": [],
      "authorship_tag": "ABX9TyPCBfW29Jz7R9HuK+Q8GX1U",
      "include_colab_link": true
    },
    "kernelspec": {
      "name": "python3",
      "display_name": "Python 3"
    },
    "language_info": {
      "name": "python"
    }
  },
  "cells": [
    {
      "cell_type": "markdown",
      "metadata": {
        "id": "view-in-github",
        "colab_type": "text"
      },
      "source": [
        "<a href=\"https://colab.research.google.com/github/Amulya-Soma/AI/blob/main/Assignment2_single_variable_gradient_descent_algorithm.ipynb\" target=\"_parent\"><img src=\"https://colab.research.google.com/assets/colab-badge.svg\" alt=\"Open In Colab\"/></a>"
      ]
    },
    {
      "cell_type": "code",
      "metadata": {
        "colab": {
          "base_uri": "https://localhost:8080/"
        },
        "id": "WNNvC37jOu0S",
        "outputId": "2b4ae95d-7609-466e-b13d-f4e69cffd4e8"
      },
      "source": [
        "import numpy as np\n",
        "x=np.random.uniform(-10,10)\n",
        "eta=0.001\n",
        "epochs=200\n",
        "iter=0\n",
        "while iter<=epochs:\n",
        "  grad_x=4*(x*x*x)+6*x\n",
        "  delx= -eta * grad_x\n",
        "  x=x+delx\n",
        "  iter=iter+1\n",
        "obj=x*x*x*x + 3*(x*x) +10\n",
        "print('Minimum value of function = ', obj ,'at x = ', x)"
      ],
      "execution_count": 8,
      "outputs": [
        {
          "output_type": "stream",
          "name": "stdout",
          "text": [
            "Minimum value of function =  10.408336968479652 at x =  0.3611657905919849\n"
          ]
        }
      ]
    }
  ]
}